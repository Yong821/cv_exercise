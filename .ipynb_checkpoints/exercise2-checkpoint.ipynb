{
 "cells": [
  {
   "cell_type": "code",
   "execution_count": 50,
   "id": "f33c8e3e",
   "metadata": {},
   "outputs": [],
   "source": [
    "# target：拟合多项式：y = x^3 + 2x^2 + x - 1"
   ]
  },
  {
   "cell_type": "code",
   "execution_count": 51,
   "id": "c1cb3ef8",
   "metadata": {},
   "outputs": [],
   "source": [
    "import numpy as np\n",
    "import matplotlib.pyplot as plt"
   ]
  },
  {
   "cell_type": "code",
   "execution_count": 69,
   "id": "99bbcfbb",
   "metadata": {
    "scrolled": false
   },
   "outputs": [
    {
     "name": "stdout",
     "output_type": "stream",
     "text": [
      "(100,)\n",
      "以下是真实x\n",
      "[[-1000.           100.           -10.             1.        ]\n",
      " [ -940.61005937    96.00040812    -9.7979798      1.        ]\n",
      " [ -883.61937918    92.08244057    -9.5959596      1.        ]\n",
      " [ -828.97849014    88.24609734    -9.39393939     1.        ]\n",
      " [ -776.63792295    84.49137843    -9.19191919     1.        ]\n",
      " [ -726.54820834    80.81828385    -8.98989899     1.        ]\n",
      " [ -678.65987701    77.22681359    -8.78787879     1.        ]\n",
      " [ -632.92345968    73.71696766    -8.58585859     1.        ]\n",
      " [ -589.28948706    70.28874605    -8.38383838     1.        ]\n",
      " [ -547.70848986    66.94214876    -8.18181818     1.        ]]\n",
      "-----------------------------------------\n",
      "[[-811.        ]\n",
      " [-759.40722293]\n",
      " [-710.05045764]\n",
      " [-662.88023486]\n",
      " [-617.84708528]\n",
      " [-574.90153963]\n",
      " [-533.99412861]\n",
      " [-495.07538295]\n",
      " [-458.09583335]\n",
      " [-423.00601052]]\n",
      "-----------------------------------------\n",
      "[[-815.50720749]\n",
      " [-752.90835764]\n",
      " [-696.83892566]\n",
      " [-658.71756861]\n",
      " [-623.75854019]\n",
      " [-595.99197995]\n",
      " [-556.23963935]\n",
      " [-480.821256  ]\n",
      " [-471.30731604]\n",
      " [-415.15855016]]\n"
     ]
    }
   ],
   "source": [
    "# create train sample\n",
    "x = np.linspace(-10, 10, 100).reshape(100, )\n",
    "x_true = np.zeros(400).reshape(100, 4)\n",
    "print(x_true[:, 0].shape)\n",
    "x_true[:, 3] = 1\n",
    "x_true[:, 0] = x * x * x\n",
    "\n",
    "x_true[:, 1] = x * x\n",
    "x_true[:, 2] = x\n",
    "x_train = x_true\n",
    "print(\"以下是真实x\")\n",
    "print(x_true[:10])\n",
    "\n",
    "y_true = x_true[:, 0] + 2 * x_true[:, 1] + x_true[:, 2] - x_true[:, 3]\n",
    "y_true = y_true.reshape(100, 1)\n",
    "print(\"-----------------------------------------\")\n",
    "print(y_true[:10])\n",
    "# 加入干扰\n",
    "y_train = y_true + 10 * np.random.randn(100, 1)\n",
    "print('-----------------------------------------')\n",
    "print(y_train[:10])"
   ]
  },
  {
   "cell_type": "code",
   "execution_count": 65,
   "id": "5ce6cccc",
   "metadata": {},
   "outputs": [],
   "source": [
    "# create model\n",
    "class LinearFit:\n",
    "    def __init__(self, infeatures):\n",
    "        self.W = np.zeros(infeatures)\n",
    "        self.b = 0\n",
    "        \n",
    "    def predict(self, x):\n",
    "        return x @ self.W.T\n",
    "    \n",
    "    def evaluate(self, x, y):\n",
    "        yhat = self.predict(x)\n",
    "    \n",
    "    def fit(self, X, Y):\n",
    "        W_g = np.linalg.inv(X.T @ X) @ X.T @ Y\n",
    "        self.W = W_g[0:3]\n",
    "        self.b = W_g[3]"
   ]
  },
  {
   "cell_type": "code",
   "execution_count": 66,
   "id": "56de2cf5",
   "metadata": {
    "scrolled": false
   },
   "outputs": [
    {
     "name": "stdout",
     "output_type": "stream",
     "text": [
      "[[1.00020871]\n",
      " [1.99533963]\n",
      " [1.26357365]]\n",
      "[-1.36460744]\n"
     ]
    }
   ],
   "source": [
    "l = LinearFit(4)\n",
    "l.fit(x_true, y_train)\n",
    "print(l.W)\n",
    "print(l.b)"
   ]
  },
  {
   "cell_type": "code",
   "execution_count": 68,
   "id": "4a5f850a",
   "metadata": {},
   "outputs": [
    {
     "data": {
      "text/plain": [
       "[<matplotlib.lines.Line2D at 0x7f75b5e0ce50>]"
      ]
     },
     "execution_count": 68,
     "metadata": {},
     "output_type": "execute_result"
    },
    {
     "data": {
      "image/png": "[encoded data removed]",
      "text/plain": [
       "<Figure size 432x288 with 1 Axes>"
      ]
     },
     "metadata": {
      "needs_background": "light"
     },
     "output_type": "display_data"
    }
   ],
   "source": [
    "# 原始数据的散点图\n",
    "plt.scatter(x, y_train, color='red', s=1)\n",
    "\n",
    "# 真实曲线\n",
    "plt.plot(x, y_true, color='g')\n",
    "\n",
    "# 拟合后的曲线为\n",
    "y_hat = l.W[0] * x * x * x + l.W[1] * x * x + l.W[2] * x + l.b\n",
    "plt.plot(x, y_hat, color='b')"
   ]
  }
 ],
 "metadata": {
  "kernelspec": {
   "display_name": "Python 3 (ipykernel)",
   "language": "python",
   "name": "python3"
  },
  "language_info": {
   "codemirror_mode": {
    "name": "ipython",
    "version": 3
   },
   "file_extension": ".py",
   "mimetype": "text/x-python",
   "name": "python",
   "nbconvert_exporter": "python",
   "pygments_lexer": "ipython3",
   "version": "3.8.13"
  }
 },
 "nbformat": 4,
 "nbformat_minor": 5
}
