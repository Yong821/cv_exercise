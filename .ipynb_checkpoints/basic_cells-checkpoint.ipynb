{
 "cells": [
  {
   "cell_type": "code",
   "execution_count": 3,
   "id": "808df129",
   "metadata": {},
   "outputs": [],
   "source": [
    "import numpy as np\n",
    "import matplotlib.pyplot as plt"
   ]
  },
  {
   "cell_type": "code",
   "execution_count": 4,
   "id": "12473911",
   "metadata": {},
   "outputs": [],
   "source": [
    "x = np.random.randn(2, 100)"
   ]
  },
  {
   "cell_type": "code",
   "execution_count": 5,
   "id": "6586c26a",
   "metadata": {},
   "outputs": [],
   "source": [
    "minx = x.min(axis=1, keepdims=True)\n",
    "maxx = x.max(axis=1, keepdims=True)"
   ]
  },
  {
   "cell_type": "code",
   "execution_count": 6,
   "id": "88f3ed86",
   "metadata": {},
   "outputs": [],
   "source": [
    "y = 2*(x - minx)/(maxx - minx) - 1"
   ]
  },
  {
   "cell_type": "code",
   "execution_count": 7,
   "id": "e1acf6df",
   "metadata": {},
   "outputs": [
    {
     "data": {
      "text/plain": [
       "<matplotlib.collections.PathCollection at 0x7f71b468a5b0>"
      ]
     },
     "execution_count": 7,
     "metadata": {},
     "output_type": "execute_result"
    },
    {
     "data": {
      "image/png": "[encoded data removed]",
      "text/plain": [
       "<Figure size 432x288 with 1 Axes>"
      ]
     },
     "metadata": {
      "needs_background": "light"
     },
     "output_type": "display_data"
    }
   ],
   "source": [
    "plt.scatter(x[0], x[1])\n",
    "plt.scatter(y[0], y[1], color='red')"
   ]
  },
  {
   "cell_type": "code",
   "execution_count": 8,
   "id": "79fc092b",
   "metadata": {},
   "outputs": [],
   "source": [
    "p = np.random.randn(2, 100) * 2 + 1"
   ]
  },
  {
   "cell_type": "code",
   "execution_count": 9,
   "id": "11a00b02",
   "metadata": {},
   "outputs": [],
   "source": [
    "std = p.std(axis=1, keepdims=True)\n",
    "miu = p.mean(axis=1, keepdims=True)"
   ]
  },
  {
   "cell_type": "code",
   "execution_count": 10,
   "id": "3ea81781",
   "metadata": {},
   "outputs": [],
   "source": [
    "q = (p - miu) / std"
   ]
  },
  {
   "cell_type": "code",
   "execution_count": 11,
   "id": "a3239150",
   "metadata": {},
   "outputs": [
    {
     "data": {
      "text/plain": [
       "<matplotlib.collections.PathCollection at 0x7f71b4598400>"
      ]
     },
     "execution_count": 11,
     "metadata": {},
     "output_type": "execute_result"
    },
    {
     "data": {
      "image/png": "[encoded data removed]",
      "text/plain": [
       "<Figure size 432x288 with 1 Axes>"
      ]
     },
     "metadata": {
      "needs_background": "light"
     },
     "output_type": "display_data"
    }
   ],
   "source": [
    "plt.scatter(p[0], p[1])\n",
    "plt.scatter(q[0], q[1])"
   ]
  },
  {
   "cell_type": "code",
   "execution_count": 12,
   "id": "4feae43e",
   "metadata": {},
   "outputs": [
    {
     "data": {
      "text/plain": [
       "(array([[2.12646767, 2.2083596 , 1.31072744, 2.32037659],\n",
       "        [2.49754967, 3.19683649, 2.07777716, 3.25528836]]),\n",
       " array([[2.12646767, 2.2083596 , 1.31072744, 2.32037659],\n",
       "        [2.49754967, 3.19683649, 2.07777716, 3.25528836]]))"
      ]
     },
     "execution_count": 12,
     "metadata": {},
     "output_type": "execute_result"
    }
   ],
   "source": [
    "x = np.random.rand(2, 10)\n",
    "y = np.random.rand(10, 4)\n",
    "p = x.dot(y)\n",
    "q = x @ y\n",
    "\n",
    "p, q\n"
   ]
  },
  {
   "cell_type": "code",
   "execution_count": 13,
   "id": "0b7035c7",
   "metadata": {},
   "outputs": [],
   "source": [
    "def sigmoid(z):\n",
    "    return 1 / (1 + np.exp(-z))"
   ]
  },
  {
   "cell_type": "code",
   "execution_count": 18,
   "id": "cc56b904",
   "metadata": {},
   "outputs": [],
   "source": [
    "def sigmoidCell(W, X, b):\n",
    "    z = X @ W.T + b\n",
    "    return sigmoid(z);"
   ]
  },
  {
   "cell_type": "code",
   "execution_count": 19,
   "id": "5c88b509",
   "metadata": {},
   "outputs": [],
   "source": [
    "def softmax(z):\n",
    "    z = z - z.max(axis=1, keepdims=True)\n",
    "    expz = np.exp(z)\n",
    "    z = expz / expz.sum(axis=1, keepdims=True)\n",
    "    return z"
   ]
  },
  {
   "cell_type": "code",
   "execution_count": 20,
   "id": "4d637b0c",
   "metadata": {},
   "outputs": [],
   "source": [
    "def softmaxCell(W, X, b):\n",
    "    z = X @ W.T + b\n",
    "    return softmax(z)"
   ]
  },
  {
   "cell_type": "code",
   "execution_count": 21,
   "id": "fa18bab9",
   "metadata": {
    "scrolled": true
   },
   "outputs": [
    {
     "name": "stdout",
     "output_type": "stream",
     "text": [
      "[[0.58140848 0.47244828 0.69019577 0.6305172  0.52903637]\n",
      " [0.79578019 0.57348362 0.84417832 0.73831244 0.61138661]\n",
      " [0.55453391 0.48625088 0.62102991 0.58110691 0.51919362]\n",
      " [0.36758552 0.42965001 0.42135913 0.46109831 0.4564648 ]\n",
      " [0.09126946 0.21346466 0.24634043 0.37809847 0.32397366]\n",
      " [0.60755297 0.5202459  0.63954815 0.58790353 0.53646854]\n",
      " [0.55462194 0.59024055 0.39823313 0.41874497 0.5152951 ]\n",
      " [0.61992992 0.50682342 0.68544616 0.62169559 0.54139704]\n",
      " [0.42140062 0.43157118 0.51303989 0.52011716 0.47554762]\n",
      " [0.28277684 0.38918913 0.34974623 0.42008757 0.42536456]]\n",
      "[[2.9036061 ]\n",
      " [3.56314119]\n",
      " [2.76211523]\n",
      " [2.13615776]\n",
      " [1.25314667]\n",
      " [2.89171909]\n",
      " [2.47713568]\n",
      " [2.97529213]\n",
      " [2.36167647]\n",
      " [1.86716432]]\n",
      "----------------------------------------------\n",
      "[[0.18917673 0.12197364 0.30343224 0.2324232  0.15299419]\n",
      " [0.2588565  0.08932008 0.35989028 0.18742215 0.10451099]\n",
      " [0.1976837  0.15030267 0.26023457 0.22029785 0.17148121]\n",
      " [0.1546607  0.20044571 0.19376114 0.22767081 0.22346164]\n",
      " [0.0562385  0.15196765 0.18302224 0.34042911 0.2683425 ]\n",
      " [0.22145096 0.1551188  0.25380515 0.20407116 0.16555393]\n",
      " [0.24269616 0.28073382 0.12897448 0.14040338 0.20719215]\n",
      " [0.21288704 0.13412957 0.28441249 0.21448982 0.15408108]\n",
      " [0.16071501 0.16753887 0.2324861  0.23916917 0.20009084]\n",
      " [0.12995241 0.21001425 0.17728214 0.23876587 0.24398533]]\n",
      "[[1.]\n",
      " [1.]\n",
      " [1.]\n",
      " [1.]\n",
      " [1.]\n",
      " [1.]\n",
      " [1.]\n",
      " [1.]\n",
      " [1.]\n",
      " [1.]]\n"
     ]
    }
   ],
   "source": [
    "X = np.random.randn(10, 2) # 10个样本\n",
    "W = np.random.rand(5, 2)   # 5个类别\n",
    "b = 0\n",
    "sig = sigmoidCell(W, X, b)\n",
    "soft = softmaxCell(W, X, b)\n",
    "print(sig)\n",
    "print(sig.sum(axis=1, keepdims=True))\n",
    "print('----------------------------------------------')\n",
    "print(soft)\n",
    "print(soft.sum(axis=1, keepdims=True))"
   ]
  }
 ],
 "metadata": {
  "kernelspec": {
   "display_name": "Python 3 (ipykernel)",
   "language": "python",
   "name": "python3"
  },
  "language_info": {
   "codemirror_mode": {
    "name": "ipython",
    "version": 3
   },
   "file_extension": ".py",
   "mimetype": "text/x-python",
   "name": "python",
   "nbconvert_exporter": "python",
   "pygments_lexer": "ipython3",
   "version": "3.8.13"
  }
 },
 "nbformat": 4,
 "nbformat_minor": 5
}
